{
 "cells": [
  {
   "cell_type": "code",
   "execution_count": 43,
   "metadata": {},
   "outputs": [],
   "source": [
    "import matplotlib.pyplot as plt\n",
    "import tensorflow as tf"
   ]
  },
  {
   "cell_type": "code",
   "execution_count": 1,
   "metadata": {},
   "outputs": [],
   "source": [
    "import cv2, numpy as np, os\n",
    "\n",
    "#parameters\n",
    "working_dir = r'C:\\Users\\neera\\Desktop\\IIST\\Assignments\\CV project\\shapes'\n",
    "os.chdir(working_dir)\n",
    "img_size = 60 #size of image fed into model"
   ]
  },
  {
   "cell_type": "code",
   "execution_count": 2,
   "metadata": {},
   "outputs": [],
   "source": [
    "folders, labels, images = ['square', 'triangle'], [], []\n",
    "for folder in folders:\n",
    " #   print folder\n",
    "    for path in os.listdir(os.getcwd()+'/'+folder):\n",
    "        img = cv2.imread(folder+'/'+path,0)\n",
    "        #cv2.imshow('img', img)\n",
    "        #cv2.waitKey(1)\n",
    "        images.append(cv2.resize(img, (img_size, img_size)))\n",
    "        labels.append(folders.index(folder))"
   ]
  },
  {
   "cell_type": "code",
   "execution_count": 3,
   "metadata": {},
   "outputs": [],
   "source": [
    "from sklearn.model_selection import train_test_split\n",
    "\n",
    "X_train, X_test, y_train, y_test = train_test_split(images, labels, test_size=0.3, random_state = 12)\n",
    "\n",
    "X_train = np.array(X_train)\n",
    "X_test = np.array(X_test)\n",
    "\n",
    "X_train = X_train.reshape(X_train.shape[0], 60, 60, 1)\n",
    "X_test = X_test.reshape(X_test.shape[0], 60, 60, 1)"
   ]
  },
  {
   "cell_type": "code",
   "execution_count": 4,
   "metadata": {},
   "outputs": [],
   "source": [
    "# For sequential\n",
    "def flatten(dimData, images):\n",
    "    images = np.array(images)\n",
    "    images = images.reshape(len(images), dimData)\n",
    "    images = images.astype('float32')\n",
    "    images /=255\n",
    "    return images\n",
    "\n",
    "#flatten data\n",
    "dataDim = np.prod(images[0].shape)\n",
    "train_data  = flatten(dataDim, X_train)\n",
    "test_data = flatten(dataDim, X_test)"
   ]
  },
  {
   "cell_type": "code",
   "execution_count": 5,
   "metadata": {},
   "outputs": [
    {
     "name": "stderr",
     "output_type": "stream",
     "text": [
      "Using TensorFlow backend.\n",
      "c:\\Users\\neera\\Desktop\\Lucid_demo\\.venv\\lib\\site-packages\\tensorflow\\python\\framework\\dtypes.py:517: FutureWarning: Passing (type, 1) or '1type' as a synonym of type is deprecated; in a future version of numpy, it will be understood as (type, (1,)) / '(1,)type'.\n",
      "  _np_qint8 = np.dtype([(\"qint8\", np.int8, 1)])\n",
      "c:\\Users\\neera\\Desktop\\Lucid_demo\\.venv\\lib\\site-packages\\tensorflow\\python\\framework\\dtypes.py:518: FutureWarning: Passing (type, 1) or '1type' as a synonym of type is deprecated; in a future version of numpy, it will be understood as (type, (1,)) / '(1,)type'.\n",
      "  _np_quint8 = np.dtype([(\"quint8\", np.uint8, 1)])\n",
      "c:\\Users\\neera\\Desktop\\Lucid_demo\\.venv\\lib\\site-packages\\tensorflow\\python\\framework\\dtypes.py:519: FutureWarning: Passing (type, 1) or '1type' as a synonym of type is deprecated; in a future version of numpy, it will be understood as (type, (1,)) / '(1,)type'.\n",
      "  _np_qint16 = np.dtype([(\"qint16\", np.int16, 1)])\n",
      "c:\\Users\\neera\\Desktop\\Lucid_demo\\.venv\\lib\\site-packages\\tensorflow\\python\\framework\\dtypes.py:520: FutureWarning: Passing (type, 1) or '1type' as a synonym of type is deprecated; in a future version of numpy, it will be understood as (type, (1,)) / '(1,)type'.\n",
      "  _np_quint16 = np.dtype([(\"quint16\", np.uint16, 1)])\n",
      "c:\\Users\\neera\\Desktop\\Lucid_demo\\.venv\\lib\\site-packages\\tensorflow\\python\\framework\\dtypes.py:521: FutureWarning: Passing (type, 1) or '1type' as a synonym of type is deprecated; in a future version of numpy, it will be understood as (type, (1,)) / '(1,)type'.\n",
      "  _np_qint32 = np.dtype([(\"qint32\", np.int32, 1)])\n",
      "c:\\Users\\neera\\Desktop\\Lucid_demo\\.venv\\lib\\site-packages\\tensorflow\\python\\framework\\dtypes.py:526: FutureWarning: Passing (type, 1) or '1type' as a synonym of type is deprecated; in a future version of numpy, it will be understood as (type, (1,)) / '(1,)type'.\n",
      "  np_resource = np.dtype([(\"resource\", np.ubyte, 1)])\n"
     ]
    }
   ],
   "source": [
    "from keras.utils import to_categorical\n",
    "\n",
    "#change labels to categorical\n",
    "train_labels = np.array(y_train)\n",
    "test_labels = np.array(y_test)\n",
    "train_labels_one_hot = to_categorical(train_labels)\n",
    "test_labels_one_hot = to_categorical(test_labels)\n",
    "\n",
    "#determine the number of classes\n",
    "classes = np.unique(train_labels)\n",
    "nClasses  = len(classes)"
   ]
  },
  {
   "cell_type": "code",
   "execution_count": 6,
   "metadata": {},
   "outputs": [],
   "source": [
    "from keras.models import Sequential\n",
    "from keras.layers import Dense, Dropout, Conv2D, MaxPool2D, Flatten"
   ]
  },
  {
   "cell_type": "code",
   "execution_count": 19,
   "metadata": {},
   "outputs": [],
   "source": [
    "def get_model(model_name = 'sequential'):\n",
    "    \n",
    "    if model_name == 'CNN':\n",
    "        # building a linear stack of layers with the sequential model\n",
    "        model = Sequential()\n",
    "        # convolutional layer\n",
    "        model.add(Conv2D(50, kernel_size=(3,3), strides=(1,1), padding='valid', activation='relu', input_shape=(60,60,1)))\n",
    "        model.add(MaxPool2D(pool_size=(1,1)))\n",
    "        # flatten output of conv\n",
    "        model.add(Flatten())\n",
    "        # hidden layer\n",
    "        model.add(Dense(100, activation='relu'))\n",
    "        model.add(Dropout(0.1))\n",
    "        # output layer\n",
    "        model.add(Dense(nClasses, activation='softmax'))\n",
    "\n",
    "        return model\n",
    "    \n",
    "    elif model_name == 'sequential':\n",
    "        # dataDim = np.prod(images[0].shape)\n",
    "        model = Sequential()\n",
    "        model.add(Dense(256, activation = 'tanh', input_shape = (dataDim,)))\n",
    "        model.add(Dropout(0.2))\n",
    "        model.add(Dense(256, activation='tanh'))\n",
    "        model.add(Dropout(0.2))\n",
    "        model.add(Dense(256, activation='relu'))\n",
    "        model.add(Dropout(0.2))\n",
    "        model.add(Dense(nClasses, activation='softmax'))\n",
    "\n",
    "        return model"
   ]
  },
  {
   "cell_type": "code",
   "execution_count": 20,
   "metadata": {},
   "outputs": [
    {
     "name": "stdout",
     "output_type": "stream",
     "text": [
      "Train on 5239 samples, validate on 2246 samples\n",
      "Epoch 1/10\n",
      "5239/5239 [==============================] - 41s 8ms/step - loss: 7.8045 - acc: 0.5108 - val_loss: 8.1380 - val_acc: 0.4951\n",
      "Epoch 2/10\n",
      "5239/5239 [==============================] - 39s 7ms/step - loss: 7.9560 - acc: 0.5064 - val_loss: 8.1380 - val_acc: 0.4951\n",
      "Epoch 3/10\n",
      "5239/5239 [==============================] - 37s 7ms/step - loss: 7.9560 - acc: 0.5064 - val_loss: 8.1380 - val_acc: 0.4951\n",
      "Epoch 4/10\n",
      "5239/5239 [==============================] - 32s 6ms/step - loss: 7.9560 - acc: 0.5064 - val_loss: 8.1380 - val_acc: 0.4951\n",
      "Epoch 5/10\n",
      "5239/5239 [==============================] - 31s 6ms/step - loss: 7.9560 - acc: 0.5064 - val_loss: 8.1380 - val_acc: 0.4951\n",
      "Epoch 6/10\n",
      "5239/5239 [==============================] - 30s 6ms/step - loss: 7.9560 - acc: 0.5064 - val_loss: 8.1380 - val_acc: 0.4951\n",
      "Epoch 7/10\n",
      "5239/5239 [==============================] - 30s 6ms/step - loss: 7.9560 - acc: 0.5064 - val_loss: 8.1380 - val_acc: 0.4951\n",
      "Epoch 8/10\n",
      "5239/5239 [==============================] - 30s 6ms/step - loss: 7.9560 - acc: 0.5064 - val_loss: 8.1380 - val_acc: 0.4951\n",
      "Epoch 9/10\n",
      "5239/5239 [==============================] - 31s 6ms/step - loss: 7.9560 - acc: 0.5064 - val_loss: 8.1380 - val_acc: 0.4951\n",
      "Epoch 10/10\n",
      "5239/5239 [==============================] - 38s 7ms/step - loss: 7.9560 - acc: 0.5064 - val_loss: 8.1380 - val_acc: 0.4951\n"
     ]
    }
   ],
   "source": [
    "model_cnn = get_model('CNN')\n",
    "\n",
    "model_cnn.compile(optimizer='rmsprop', loss='categorical_crossentropy', metrics=['accuracy'])\n",
    "history = model_cnn.fit(X_train, train_labels_one_hot, batch_size = 256, epochs=10, verbose=1,\n",
    "                    validation_data=(X_test, test_labels_one_hot))"
   ]
  },
  {
   "cell_type": "code",
   "execution_count": 21,
   "metadata": {},
   "outputs": [],
   "source": [
    "#save model\n",
    "model.save(r'c:\\Users\\neera\\Desktop\\Lucid_demo'+'/model_square_tri.h5')"
   ]
  },
  {
   "cell_type": "code",
   "execution_count": 10,
   "metadata": {},
   "outputs": [
    {
     "ename": "AttributeError",
     "evalue": "'str' object has no attribute 'decode'",
     "output_type": "error",
     "traceback": [
      "\u001b[1;31m---------------------------------------------------------------------------\u001b[0m",
      "\u001b[1;31mAttributeError\u001b[0m                            Traceback (most recent call last)",
      "\u001b[1;32m<ipython-input-10-4a43c7a26842>\u001b[0m in \u001b[0;36m<module>\u001b[1;34m\u001b[0m\n\u001b[0;32m      1\u001b[0m \u001b[1;32mfrom\u001b[0m \u001b[0mkeras\u001b[0m\u001b[1;33m.\u001b[0m\u001b[0mmodels\u001b[0m \u001b[1;32mimport\u001b[0m \u001b[0mload_model\u001b[0m\u001b[1;33m\u001b[0m\u001b[0m\n\u001b[0;32m      2\u001b[0m \u001b[1;33m\u001b[0m\u001b[0m\n\u001b[1;32m----> 3\u001b[1;33m \u001b[0mmodel\u001b[0m \u001b[1;33m=\u001b[0m \u001b[0mload_model\u001b[0m\u001b[1;33m(\u001b[0m\u001b[1;34mr\"C:\\Users\\neera\\Desktop\\Lucid_demo\\model_square_tri.h5\"\u001b[0m\u001b[1;33m)\u001b[0m\u001b[1;33m\u001b[0m\u001b[0m\n\u001b[0m",
      "\u001b[1;32mc:\\Users\\neera\\Desktop\\Lucid_demo\\.venv\\lib\\site-packages\\keras\\models.py\u001b[0m in \u001b[0;36mload_model\u001b[1;34m(filepath, custom_objects, compile)\u001b[0m\n\u001b[0;32m    240\u001b[0m         \u001b[1;32mif\u001b[0m \u001b[0mmodel_config\u001b[0m \u001b[1;32mis\u001b[0m \u001b[1;32mNone\u001b[0m\u001b[1;33m:\u001b[0m\u001b[1;33m\u001b[0m\u001b[0m\n\u001b[0;32m    241\u001b[0m             \u001b[1;32mraise\u001b[0m \u001b[0mValueError\u001b[0m\u001b[1;33m(\u001b[0m\u001b[1;34m'No model found in config file.'\u001b[0m\u001b[1;33m)\u001b[0m\u001b[1;33m\u001b[0m\u001b[0m\n\u001b[1;32m--> 242\u001b[1;33m         \u001b[0mmodel_config\u001b[0m \u001b[1;33m=\u001b[0m \u001b[0mjson\u001b[0m\u001b[1;33m.\u001b[0m\u001b[0mloads\u001b[0m\u001b[1;33m(\u001b[0m\u001b[0mmodel_config\u001b[0m\u001b[1;33m.\u001b[0m\u001b[0mdecode\u001b[0m\u001b[1;33m(\u001b[0m\u001b[1;34m'utf-8'\u001b[0m\u001b[1;33m)\u001b[0m\u001b[1;33m)\u001b[0m\u001b[1;33m\u001b[0m\u001b[0m\n\u001b[0m\u001b[0;32m    243\u001b[0m         \u001b[0mmodel\u001b[0m \u001b[1;33m=\u001b[0m \u001b[0mmodel_from_config\u001b[0m\u001b[1;33m(\u001b[0m\u001b[0mmodel_config\u001b[0m\u001b[1;33m,\u001b[0m \u001b[0mcustom_objects\u001b[0m\u001b[1;33m=\u001b[0m\u001b[0mcustom_objects\u001b[0m\u001b[1;33m)\u001b[0m\u001b[1;33m\u001b[0m\u001b[0m\n\u001b[0;32m    244\u001b[0m \u001b[1;33m\u001b[0m\u001b[0m\n",
      "\u001b[1;31mAttributeError\u001b[0m: 'str' object has no attribute 'decode'"
     ]
    }
   ],
   "source": [
    "from keras.models import load_model\n",
    "\n",
    "model = load_model(r\"C:\\Users\\neera\\Desktop\\Lucid_demo\\model_square_tri.h5\")"
   ]
  },
  {
   "cell_type": "code",
   "execution_count": 13,
   "metadata": {},
   "outputs": [],
   "source": [
    "import lucid.modelzoo.vision_models as models\n",
    "from lucid.misc.io import show\n",
    "import lucid.optvis.objectives as objectives\n",
    "\n",
    "import lucid.optvis.param as param\n",
    "import lucid.optvis.render as render\n",
    "import lucid.optvis.transform as transform"
   ]
  },
  {
   "cell_type": "code",
   "execution_count": 53,
   "metadata": {},
   "outputs": [
    {
     "ename": "AttributeError",
     "evalue": "'Sequential' object has no attribute 'import_graph'",
     "output_type": "error",
     "traceback": [
      "\u001b[1;31m---------------------------------------------------------------------------\u001b[0m",
      "\u001b[1;31mAttributeError\u001b[0m                            Traceback (most recent call last)",
      "\u001b[1;32m<ipython-input-53-0e4dcf509d20>\u001b[0m in \u001b[0;36m<module>\u001b[1;34m\u001b[0m\n\u001b[0;32m     13\u001b[0m \u001b[1;33m\u001b[0m\u001b[0m\n\u001b[0;32m     14\u001b[0m     \u001b[1;31m# Generate the visualization\u001b[0m\u001b[1;33m\u001b[0m\u001b[1;33m\u001b[0m\u001b[0m\n\u001b[1;32m---> 15\u001b[1;33m     \u001b[0mvis\u001b[0m \u001b[1;33m=\u001b[0m \u001b[0mrender\u001b[0m\u001b[1;33m.\u001b[0m\u001b[0mrender_vis\u001b[0m\u001b[1;33m(\u001b[0m\u001b[0mmodel\u001b[0m\u001b[1;33m,\u001b[0m \u001b[0mobjective_f\u001b[0m\u001b[1;33m=\u001b[0m\u001b[0mobjective\u001b[0m\u001b[1;33m(\u001b[0m\u001b[1;34m'layer_0'\u001b[0m\u001b[1;33m)\u001b[0m\u001b[1;33m)\u001b[0m\u001b[1;33m\u001b[0m\u001b[0m\n\u001b[0m",
      "\u001b[1;32mc:\\Users\\neera\\Desktop\\Lucid_demo\\.venv\\lib\\site-packages\\lucid\\optvis\\render.py\u001b[0m in \u001b[0;36mrender_vis\u001b[1;34m(model, objective_f, param_f, optimizer, transforms, thresholds, print_objectives, verbose)\u001b[0m\n\u001b[0;32m     81\u001b[0m   \u001b[1;32mwith\u001b[0m \u001b[0mtf\u001b[0m\u001b[1;33m.\u001b[0m\u001b[0mGraph\u001b[0m\u001b[1;33m(\u001b[0m\u001b[1;33m)\u001b[0m\u001b[1;33m.\u001b[0m\u001b[0mas_default\u001b[0m\u001b[1;33m(\u001b[0m\u001b[1;33m)\u001b[0m \u001b[1;32mas\u001b[0m \u001b[0mgraph\u001b[0m\u001b[1;33m,\u001b[0m \u001b[0mtf\u001b[0m\u001b[1;33m.\u001b[0m\u001b[0mSession\u001b[0m\u001b[1;33m(\u001b[0m\u001b[1;33m)\u001b[0m \u001b[1;32mas\u001b[0m \u001b[0msess\u001b[0m\u001b[1;33m:\u001b[0m\u001b[1;33m\u001b[0m\u001b[0m\n\u001b[0;32m     82\u001b[0m \u001b[1;33m\u001b[0m\u001b[0m\n\u001b[1;32m---> 83\u001b[1;33m     \u001b[0mT\u001b[0m \u001b[1;33m=\u001b[0m \u001b[0mmake_vis_T\u001b[0m\u001b[1;33m(\u001b[0m\u001b[0mmodel\u001b[0m\u001b[1;33m,\u001b[0m \u001b[0mobjective_f\u001b[0m\u001b[1;33m,\u001b[0m \u001b[0mparam_f\u001b[0m\u001b[1;33m,\u001b[0m \u001b[0moptimizer\u001b[0m\u001b[1;33m,\u001b[0m \u001b[0mtransforms\u001b[0m\u001b[1;33m)\u001b[0m\u001b[1;33m\u001b[0m\u001b[0m\n\u001b[0m\u001b[0;32m     84\u001b[0m     \u001b[0mprint_objective_func\u001b[0m \u001b[1;33m=\u001b[0m \u001b[0mmake_print_objective_func\u001b[0m\u001b[1;33m(\u001b[0m\u001b[0mprint_objectives\u001b[0m\u001b[1;33m,\u001b[0m \u001b[0mT\u001b[0m\u001b[1;33m)\u001b[0m\u001b[1;33m\u001b[0m\u001b[0m\n\u001b[0;32m     85\u001b[0m     \u001b[0mloss\u001b[0m\u001b[1;33m,\u001b[0m \u001b[0mvis_op\u001b[0m\u001b[1;33m,\u001b[0m \u001b[0mt_image\u001b[0m \u001b[1;33m=\u001b[0m \u001b[0mT\u001b[0m\u001b[1;33m(\u001b[0m\u001b[1;34m\"loss\"\u001b[0m\u001b[1;33m)\u001b[0m\u001b[1;33m,\u001b[0m \u001b[0mT\u001b[0m\u001b[1;33m(\u001b[0m\u001b[1;34m\"vis_op\"\u001b[0m\u001b[1;33m)\u001b[0m\u001b[1;33m,\u001b[0m \u001b[0mT\u001b[0m\u001b[1;33m(\u001b[0m\u001b[1;34m\"input\"\u001b[0m\u001b[1;33m)\u001b[0m\u001b[1;33m\u001b[0m\u001b[0m\n",
      "\u001b[1;32mc:\\Users\\neera\\Desktop\\Lucid_demo\\.venv\\lib\\site-packages\\lucid\\optvis\\render.py\u001b[0m in \u001b[0;36mmake_vis_T\u001b[1;34m(model, objective_f, param_f, optimizer, transforms)\u001b[0m\n\u001b[0;32m    192\u001b[0m   \u001b[0moptimizer\u001b[0m \u001b[1;33m=\u001b[0m \u001b[0mmake_optimizer\u001b[0m\u001b[1;33m(\u001b[0m\u001b[0moptimizer\u001b[0m\u001b[1;33m,\u001b[0m \u001b[1;33m[\u001b[0m\u001b[1;33m]\u001b[0m\u001b[1;33m)\u001b[0m \u001b[1;31m# Default is tf.train.AdamOptimizer(0.05)\u001b[0m\u001b[1;33m\u001b[0m\u001b[0m\n\u001b[0;32m    193\u001b[0m \u001b[1;33m\u001b[0m\u001b[0m\n\u001b[1;32m--> 194\u001b[1;33m   \u001b[0mT\u001b[0m \u001b[1;33m=\u001b[0m \u001b[0mimport_model\u001b[0m\u001b[1;33m(\u001b[0m\u001b[0mmodel\u001b[0m\u001b[1;33m,\u001b[0m \u001b[0mtransform_f\u001b[0m\u001b[1;33m(\u001b[0m\u001b[0mt_image\u001b[0m\u001b[1;33m)\u001b[0m\u001b[1;33m,\u001b[0m \u001b[0mt_image\u001b[0m\u001b[1;33m)\u001b[0m\u001b[1;33m\u001b[0m\u001b[0m\n\u001b[0m\u001b[0;32m    195\u001b[0m   \u001b[0mloss\u001b[0m \u001b[1;33m=\u001b[0m \u001b[0mobjective_f\u001b[0m\u001b[1;33m(\u001b[0m\u001b[0mT\u001b[0m\u001b[1;33m)\u001b[0m\u001b[1;33m\u001b[0m\u001b[0m\n\u001b[0;32m    196\u001b[0m \u001b[1;33m\u001b[0m\u001b[0m\n",
      "\u001b[1;32mc:\\Users\\neera\\Desktop\\Lucid_demo\\.venv\\lib\\site-packages\\lucid\\optvis\\render.py\u001b[0m in \u001b[0;36mimport_model\u001b[1;34m(model, t_image, t_image_raw)\u001b[0m\n\u001b[0;32m    280\u001b[0m \u001b[1;32mdef\u001b[0m \u001b[0mimport_model\u001b[0m\u001b[1;33m(\u001b[0m\u001b[0mmodel\u001b[0m\u001b[1;33m,\u001b[0m \u001b[0mt_image\u001b[0m\u001b[1;33m,\u001b[0m \u001b[0mt_image_raw\u001b[0m\u001b[1;33m)\u001b[0m\u001b[1;33m:\u001b[0m\u001b[1;33m\u001b[0m\u001b[0m\n\u001b[0;32m    281\u001b[0m \u001b[1;33m\u001b[0m\u001b[0m\n\u001b[1;32m--> 282\u001b[1;33m   \u001b[0mmodel\u001b[0m\u001b[1;33m.\u001b[0m\u001b[0mimport_graph\u001b[0m\u001b[1;33m(\u001b[0m\u001b[0mt_image\u001b[0m\u001b[1;33m,\u001b[0m \u001b[0mscope\u001b[0m\u001b[1;33m=\u001b[0m\u001b[1;34m\"import\"\u001b[0m\u001b[1;33m,\u001b[0m \u001b[0mforget_xy_shape\u001b[0m\u001b[1;33m=\u001b[0m\u001b[1;32mTrue\u001b[0m\u001b[1;33m)\u001b[0m \u001b[1;31m# \"\"\"Import model GraphDef into the current graph.\"\"\"\u001b[0m\u001b[1;33m\u001b[0m\u001b[0m\n\u001b[0m\u001b[0;32m    283\u001b[0m   \u001b[1;31m# This function provides a way to import a serialized TensorFlow\u001b[0m\u001b[1;33m\u001b[0m\u001b[1;33m\u001b[0m\u001b[0m\n\u001b[0;32m    284\u001b[0m   \u001b[1;31m# [`GraphDef`](https://www.tensorflow.org/code/tensorflow/core/framework/graph.proto)\u001b[0m\u001b[1;33m\u001b[0m\u001b[1;33m\u001b[0m\u001b[0m\n",
      "\u001b[1;31mAttributeError\u001b[0m: 'Sequential' object has no attribute 'import_graph'"
     ]
    }
   ],
   "source": [
    "sample_image = tf.random_uniform((1, 60, 60, 1))\n",
    "\n",
    "# Convert the Keras model to TensorFlow graph\n",
    "sess = tf.Session()\n",
    "graph = sess.graph\n",
    "with graph.as_default():\n",
    "    keras_backend = tf.keras.backend.get_session()\n",
    "    keras_backend.run(tf.global_variables_initializer())  # Initialize variables\n",
    "\n",
    "    # Define the objective function to visualize activations from a specific layer\n",
    "    def objective(t):\n",
    "        return objectives.channel(t, keras_backend)\n",
    "\n",
    "    # Generate the visualization\n",
    "    vis = render.render_vis(model, objective_f=objective('layer_0'))"
   ]
  },
  {
   "cell_type": "code",
   "execution_count": 46,
   "metadata": {},
   "outputs": [],
   "source": [
    "sample_image = tf.random_uniform((1, 60, 60, 1))\n",
    "\n",
    "\n",
    "\n",
    "# Convert the Keras model to TensorFlow graph\n",
    "sess = tf.Session()\n",
    "graph = sess.graph\n",
    "with graph.as_default():\n",
    "    keras_backend = tf.keras.backend.get_session()\n",
    "    keras_backend.run(tf.global_variables_initializer())  # Initialize variables\n",
    "\n",
    "    # Get the layer output for visualization\n",
    "    layer_output = model_cnn.layers[1].output  # Change index for the desired layer\n",
    "\n",
    "    # Run session to get the activations\n",
    "    activations = keras_backend.run(layer_output, feed_dict={model_cnn.input: sample_image.eval(session=keras_backend)})\n"
   ]
  },
  {
   "cell_type": "code",
   "execution_count": 31,
   "metadata": {},
   "outputs": [
    {
     "data": {
      "text/plain": [
       "(1, 58, 58, 50)"
      ]
     },
     "execution_count": 31,
     "metadata": {},
     "output_type": "execute_result"
    }
   ],
   "source": [
    "activations.shape"
   ]
  },
  {
   "cell_type": "code",
   "execution_count": 38,
   "metadata": {},
   "outputs": [
    {
     "data": {
      "text/plain": [
       "(58, 58)"
      ]
     },
     "execution_count": 38,
     "metadata": {},
     "output_type": "execute_result"
    }
   ],
   "source": [
    "reshaped_activations[0].shape"
   ]
  },
  {
   "cell_type": "code",
   "execution_count": 47,
   "metadata": {},
   "outputs": [],
   "source": [
    "reshaped_activations = activations.reshape( activations.shape[3], activations.shape[1], activations.shape[2])"
   ]
  },
  {
   "cell_type": "code",
   "execution_count": 41,
   "metadata": {},
   "outputs": [
    {
     "data": {
      "text/html": [
       "<img src=\"data:image/PNG;base64,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\">"
      ],
      "text/plain": [
       "<IPython.core.display.HTML object>"
      ]
     },
     "metadata": {},
     "output_type": "display_data"
    }
   ],
   "source": [
    "# Visualize the activations\n",
    "show(reshaped_activations[])"
   ]
  },
  {
   "cell_type": "code",
   "execution_count": 48,
   "metadata": {},
   "outputs": [
    {
     "data": {
      "text/plain": [
       "<matplotlib.image.AxesImage at 0x2acff1cf080>"
      ]
     },
     "execution_count": 48,
     "metadata": {},
     "output_type": "execute_result"
    },
    {
     "data": {
      "image/png": "[encoded data removed]",
      "text/plain": [
       "<Figure size 720x720 with 1 Axes>"
      ]
     },
     "metadata": {
      "needs_background": "light"
     },
     "output_type": "display_data"
    }
   ],
   "source": [
    "plt.figure(figsize=(10,10))\n",
    "plt.imshow(reshaped_activations[43])"
   ]
  },
  {
   "cell_type": "code",
   "execution_count": null,
   "metadata": {},
   "outputs": [],
   "source": [
    "obj = objectives.channel(\"mixed5a_pre_relu\", 800)\n",
    "out_img = render.render_vis(model, obj) #thresholds=(1, 32, 128, 256, 512, 1024)\n",
    "\n",
    "\n",
    "plt.imshow(out_img[0].squeeze())"
   ]
  },
  {
   "cell_type": "code",
   "execution_count": null,
   "metadata": {},
   "outputs": [],
   "source": []
  }
 ],
 "metadata": {
  "kernelspec": {
   "display_name": ".venv",
   "language": "python",
   "name": "python3"
  },
  "language_info": {
   "codemirror_mode": {
    "name": "ipython",
    "version": 3
   },
   "file_extension": ".py",
   "mimetype": "text/x-python",
   "name": "python",
   "nbconvert_exporter": "python",
   "pygments_lexer": "ipython3",
   "version": "3.6.0"
  }
 },
 "nbformat": 4,
 "nbformat_minor": 2
}
